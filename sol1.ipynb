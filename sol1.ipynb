{
 "cells": [
  {
   "cell_type": "markdown",
   "id": "96a83a85",
   "metadata": {},
   "source": [
    "# Import & Data Load"
   ]
  },
  {
   "cell_type": "code",
   "execution_count": 17,
   "id": "04e9f170",
   "metadata": {},
   "outputs": [
    {
     "name": "stderr",
     "output_type": "stream",
     "text": [
      "C:\\Users\\PC\\AppData\\Local\\Temp\\ipykernel_18044\\390590770.py:4: DtypeWarning: Columns (7,8,9,10,11,12,13,14,15,16,17,18,19,20,21,22,23,32,33) have mixed types. Specify dtype option on import or set low_memory=False.\n",
      "  df = pd.read_csv(\"data/merged_accounts_data.csv\")\n"
     ]
    }
   ],
   "source": [
    "import pandas as pd\n",
    "import numpy as np\n",
    "\n",
    "df = pd.read_csv(\"data/merged_accounts_data.csv\")"
   ]
  },
  {
   "cell_type": "markdown",
   "id": "b622d8a5",
   "metadata": {},
   "source": [
    "# Preprocessing"
   ]
  },
  {
   "cell_type": "code",
   "execution_count": 18,
   "id": "07e56775",
   "metadata": {},
   "outputs": [],
   "source": [
    "# wide → long 변환 (연도별 값)\n",
    "year_cols = [c for c in df.columns if c.isdigit()]  # '1981' ~ '2025'\n",
    "df_long = df.melt(\n",
    "    id_vars=[\"Symbol\",\"Name\",\"결산월\",\"종류\",\"계정\",\"계정명\",\"주기\",\n",
    "             \"한국표준산업분류11차(대분류)\",\"한국표준산업분류11차(중분류)\",\"한국표준산업분류11차(소분류)\",\n",
    "             \"한국표준산업분류코드11차(대분류)\",\"한국표준산업분류코드11차(중분류)\",\"한국표준산업분류코드11차(소분류)\"],\n",
    "    value_vars=year_cols,\n",
    "    var_name=\"연도\", value_name=\"값\"\n",
    ")"
   ]
  },
  {
   "cell_type": "code",
   "execution_count": 19,
   "id": "93223958",
   "metadata": {},
   "outputs": [
    {
     "data": {
      "text/html": [
       "<div>\n",
       "<style scoped>\n",
       "    .dataframe tbody tr th:only-of-type {\n",
       "        vertical-align: middle;\n",
       "    }\n",
       "\n",
       "    .dataframe tbody tr th {\n",
       "        vertical-align: top;\n",
       "    }\n",
       "\n",
       "    .dataframe thead th {\n",
       "        text-align: right;\n",
       "    }\n",
       "</style>\n",
       "<table border=\"1\" class=\"dataframe\">\n",
       "  <thead>\n",
       "    <tr style=\"text-align: right;\">\n",
       "      <th>계정명</th>\n",
       "      <th>Symbol</th>\n",
       "      <th>Name</th>\n",
       "      <th>연도</th>\n",
       "      <th>한국표준산업분류11차(대분류)</th>\n",
       "      <th>한국표준산업분류11차(중분류)</th>\n",
       "      <th>한국표준산업분류11차(소분류)</th>\n",
       "      <th>한국표준산업분류코드11차(대분류)</th>\n",
       "      <th>한국표준산업분류코드11차(중분류)</th>\n",
       "      <th>한국표준산업분류코드11차(소분류)</th>\n",
       "      <th>CAPEX (E1, Manuf.)(백만원)</th>\n",
       "      <th>...</th>\n",
       "      <th>영업활동으로인한현금흐름(백만원)</th>\n",
       "      <th>유동부채(백만원)</th>\n",
       "      <th>유동비율(%)</th>\n",
       "      <th>유동성장기부채(백만원)</th>\n",
       "      <th>유동자산(백만원)</th>\n",
       "      <th>이자보상배율(배)</th>\n",
       "      <th>자기자본비율(%)</th>\n",
       "      <th>총자산(백만원)</th>\n",
       "      <th>총자산회전율(회)</th>\n",
       "      <th>현금및현금성자산(백만원)</th>\n",
       "    </tr>\n",
       "  </thead>\n",
       "  <tbody>\n",
       "    <tr>\n",
       "      <th>0</th>\n",
       "      <td>A000010</td>\n",
       "      <td>신한은행</td>\n",
       "      <td>1981</td>\n",
       "      <td>금융 및 보험업</td>\n",
       "      <td>금융업</td>\n",
       "      <td>은행 및 저축기관</td>\n",
       "      <td>K</td>\n",
       "      <td>64.0</td>\n",
       "      <td>641.0</td>\n",
       "      <td>NaN</td>\n",
       "      <td>...</td>\n",
       "      <td>17224316.072</td>\n",
       "      <td>NaN</td>\n",
       "      <td>NaN</td>\n",
       "      <td>NaN</td>\n",
       "      <td>NaN</td>\n",
       "      <td>NaN</td>\n",
       "      <td>2.09</td>\n",
       "      <td>5417531.418</td>\n",
       "      <td>NaN</td>\n",
       "      <td>489569.355</td>\n",
       "    </tr>\n",
       "    <tr>\n",
       "      <th>1</th>\n",
       "      <td>A000010</td>\n",
       "      <td>신한은행</td>\n",
       "      <td>1982</td>\n",
       "      <td>금융 및 보험업</td>\n",
       "      <td>금융업</td>\n",
       "      <td>은행 및 저축기관</td>\n",
       "      <td>K</td>\n",
       "      <td>64.0</td>\n",
       "      <td>641.0</td>\n",
       "      <td>NaN</td>\n",
       "      <td>...</td>\n",
       "      <td>-343427.607</td>\n",
       "      <td>NaN</td>\n",
       "      <td>NaN</td>\n",
       "      <td>NaN</td>\n",
       "      <td>NaN</td>\n",
       "      <td>NaN</td>\n",
       "      <td>2.08</td>\n",
       "      <td>6549358.659</td>\n",
       "      <td>0.07</td>\n",
       "      <td>584855.383</td>\n",
       "    </tr>\n",
       "    <tr>\n",
       "      <th>2</th>\n",
       "      <td>A000010</td>\n",
       "      <td>신한은행</td>\n",
       "      <td>1983</td>\n",
       "      <td>금융 및 보험업</td>\n",
       "      <td>금융업</td>\n",
       "      <td>은행 및 저축기관</td>\n",
       "      <td>K</td>\n",
       "      <td>64.0</td>\n",
       "      <td>641.0</td>\n",
       "      <td>NaN</td>\n",
       "      <td>...</td>\n",
       "      <td>791000.885</td>\n",
       "      <td>NaN</td>\n",
       "      <td>NaN</td>\n",
       "      <td>NaN</td>\n",
       "      <td>NaN</td>\n",
       "      <td>NaN</td>\n",
       "      <td>2.75</td>\n",
       "      <td>7307866.697</td>\n",
       "      <td>0.06</td>\n",
       "      <td>513538.481</td>\n",
       "    </tr>\n",
       "    <tr>\n",
       "      <th>3</th>\n",
       "      <td>A000010</td>\n",
       "      <td>신한은행</td>\n",
       "      <td>1984</td>\n",
       "      <td>금융 및 보험업</td>\n",
       "      <td>금융업</td>\n",
       "      <td>은행 및 저축기관</td>\n",
       "      <td>K</td>\n",
       "      <td>64.0</td>\n",
       "      <td>641.0</td>\n",
       "      <td>NaN</td>\n",
       "      <td>...</td>\n",
       "      <td>-285439.663</td>\n",
       "      <td>NaN</td>\n",
       "      <td>NaN</td>\n",
       "      <td>NaN</td>\n",
       "      <td>NaN</td>\n",
       "      <td>NaN</td>\n",
       "      <td>2.62</td>\n",
       "      <td>7848955.51</td>\n",
       "      <td>0.06</td>\n",
       "      <td>805794.911</td>\n",
       "    </tr>\n",
       "    <tr>\n",
       "      <th>4</th>\n",
       "      <td>A000010</td>\n",
       "      <td>신한은행</td>\n",
       "      <td>1985</td>\n",
       "      <td>금융 및 보험업</td>\n",
       "      <td>금융업</td>\n",
       "      <td>은행 및 저축기관</td>\n",
       "      <td>K</td>\n",
       "      <td>64.0</td>\n",
       "      <td>641.0</td>\n",
       "      <td>NaN</td>\n",
       "      <td>...</td>\n",
       "      <td>6861369.425</td>\n",
       "      <td>NaN</td>\n",
       "      <td>NaN</td>\n",
       "      <td>NaN</td>\n",
       "      <td>NaN</td>\n",
       "      <td>NaN</td>\n",
       "      <td>2.54</td>\n",
       "      <td>8317734.751</td>\n",
       "      <td>0.06</td>\n",
       "      <td>732155.993</td>\n",
       "    </tr>\n",
       "  </tbody>\n",
       "</table>\n",
       "<p>5 rows × 37 columns</p>\n",
       "</div>"
      ],
      "text/plain": [
       "계정명   Symbol  Name    연도 한국표준산업분류11차(대분류) 한국표준산업분류11차(중분류) 한국표준산업분류11차(소분류)  \\\n",
       "0    A000010  신한은행  1981         금융 및 보험업              금융업        은행 및 저축기관   \n",
       "1    A000010  신한은행  1982         금융 및 보험업              금융업        은행 및 저축기관   \n",
       "2    A000010  신한은행  1983         금융 및 보험업              금융업        은행 및 저축기관   \n",
       "3    A000010  신한은행  1984         금융 및 보험업              금융업        은행 및 저축기관   \n",
       "4    A000010  신한은행  1985         금융 및 보험업              금융업        은행 및 저축기관   \n",
       "\n",
       "계정명 한국표준산업분류코드11차(대분류)  한국표준산업분류코드11차(중분류)  한국표준산업분류코드11차(소분류)  \\\n",
       "0                    K                64.0               641.0   \n",
       "1                    K                64.0               641.0   \n",
       "2                    K                64.0               641.0   \n",
       "3                    K                64.0               641.0   \n",
       "4                    K                64.0               641.0   \n",
       "\n",
       "계정명 CAPEX (E1, Manuf.)(백만원)  ... 영업활동으로인한현금흐름(백만원) 유동부채(백만원) 유동비율(%)  \\\n",
       "0                       NaN  ...      17224316.072       NaN     NaN   \n",
       "1                       NaN  ...       -343427.607       NaN     NaN   \n",
       "2                       NaN  ...        791000.885       NaN     NaN   \n",
       "3                       NaN  ...       -285439.663       NaN     NaN   \n",
       "4                       NaN  ...       6861369.425       NaN     NaN   \n",
       "\n",
       "계정명 유동성장기부채(백만원) 유동자산(백만원) 이자보상배율(배) 자기자본비율(%)     총자산(백만원) 총자산회전율(회)  \\\n",
       "0            NaN       NaN       NaN      2.09  5417531.418       NaN   \n",
       "1            NaN       NaN       NaN      2.08  6549358.659      0.07   \n",
       "2            NaN       NaN       NaN      2.75  7307866.697      0.06   \n",
       "3            NaN       NaN       NaN      2.62   7848955.51      0.06   \n",
       "4            NaN       NaN       NaN      2.54  8317734.751      0.06   \n",
       "\n",
       "계정명 현금및현금성자산(백만원)  \n",
       "0      489569.355  \n",
       "1      584855.383  \n",
       "2      513538.481  \n",
       "3      805794.911  \n",
       "4      732155.993  \n",
       "\n",
       "[5 rows x 37 columns]"
      ]
     },
     "execution_count": 19,
     "metadata": {},
     "output_type": "execute_result"
    }
   ],
   "source": [
    "# 피벗: 계정과목을 열로\n",
    "df_pivot = df_long.pivot_table(\n",
    "    index=[\"Symbol\",\"Name\",\"연도\",\n",
    "           \"한국표준산업분류11차(대분류)\",\"한국표준산업분류11차(중분류)\",\"한국표준산업분류11차(소분류)\",\n",
    "           \"한국표준산업분류코드11차(대분류)\",\"한국표준산업분류코드11차(중분류)\",\"한국표준산업분류코드11차(소분류)\"],\n",
    "    columns=\"계정명\", values=\"값\", aggfunc=\"first\"\n",
    ").reset_index()\n",
    "\n",
    "df_pivot.head()"
   ]
  },
  {
   "cell_type": "code",
   "execution_count": 20,
   "id": "96772386",
   "metadata": {},
   "outputs": [
    {
     "data": {
      "text/plain": [
       "Index(['Symbol', 'Name', '연도', '한국표준산업분류11차(대분류)', '한국표준산업분류11차(중분류)',\n",
       "       '한국표준산업분류11차(소분류)', '한국표준산업분류코드11차(대분류)', '한국표준산업분류코드11차(중분류)',\n",
       "       '한국표준산업분류코드11차(소분류)', 'CAPEX (E1, Manuf.)(백만원)', 'EBIT(백만원)',\n",
       "       'EBITDA(백만원)', 'EV(백만원)', 'FCF (E1)(백만원)', 'PBR(배)', 'PER(배)',\n",
       "       'ROA(당기순이익)(%)', 'ROE(당기순이익)(%)', 'ROIC(%)', '기말발행주식수 (보통)(주)',\n",
       "       '당기순이익(백만원)', '매출액(백만원)', '매출총이익(백만원)', '매출총이익률(%)', '부채비율(%)',\n",
       "       '세후영업이익(백만원)', '영업이익률(%)', '영업활동으로인한현금흐름(백만원)', '유동부채(백만원)', '유동비율(%)',\n",
       "       '유동성장기부채(백만원)', '유동자산(백만원)', '이자보상배율(배)', '자기자본비율(%)', '총자산(백만원)',\n",
       "       '총자산회전율(회)', '현금및현금성자산(백만원)'],\n",
       "      dtype='object', name='계정명')"
      ]
     },
     "execution_count": 20,
     "metadata": {},
     "output_type": "execute_result"
    }
   ],
   "source": [
    "df_pivot.columns"
   ]
  },
  {
   "cell_type": "code",
   "execution_count": 21,
   "id": "f9983d9b",
   "metadata": {},
   "outputs": [
    {
     "data": {
      "text/plain": [
       "Index(['Symbol', 'Name', '연도', '산업분류(대분류)', '산업분류(중분류)', '산업분류(소분류)',\n",
       "       '산업분류코드(대분류)', '산업분류코드(중분류)', '산업분류코드(소분류)', 'CAPEX', 'EBIT', 'EBITDA',\n",
       "       'EV', 'FCF', 'PBR', 'PER', 'ROA', 'ROE', 'ROIC', '기말발행주식수', '당기순이익',\n",
       "       '매출액', '매출총이익', '매출총이익률', '부채비율', '세후영업이익', '영업이익률', '영업활동으로인한현금흐름',\n",
       "       '유동부채', '유동비율', '유동성장기부채', '유동자산', '이자보상배율', '자기자본비율', '총자산', '총자산회전율',\n",
       "       '현금및현금성자산'],\n",
       "      dtype='object')"
      ]
     },
     "execution_count": 21,
     "metadata": {},
     "output_type": "execute_result"
    }
   ],
   "source": [
    "df_pivot.columns = ['Symbol', 'Name', '연도', '산업분류(대분류)', '산업분류(중분류)',\n",
    "    '산업분류(소분류)', '산업분류코드(대분류)', '산업분류코드(중분류)',\n",
    "    '산업분류코드(소분류)', 'CAPEX', 'EBIT',\n",
    "    'EBITDA', 'EV', 'FCF', 'PBR', 'PER',\n",
    "    'ROA', 'ROE', 'ROIC', '기말발행주식수',\n",
    "    '당기순이익', '매출액', '매출총이익', '매출총이익률', '부채비율', '세후영업이익',\n",
    "    '영업이익률', '영업활동으로인한현금흐름', '유동부채', '유동비율', '유동성장기부채',\n",
    "    '유동자산', '이자보상배율', '자기자본비율', '총자산', '총자산회전율',\n",
    "    '현금및현금성자산']\n",
    "\n",
    "df_pivot.columns"
   ]
  },
  {
   "cell_type": "code",
   "execution_count": 22,
   "id": "97d6da71",
   "metadata": {},
   "outputs": [
    {
     "name": "stdout",
     "output_type": "stream",
     "text": [
      "<class 'pandas.core.frame.DataFrame'>\n",
      "RangeIndex: 99166 entries, 0 to 99165\n",
      "Data columns (total 37 columns):\n",
      " #   Column        Non-Null Count  Dtype  \n",
      "---  ------        --------------  -----  \n",
      " 0   Symbol        99166 non-null  object \n",
      " 1   Name          99166 non-null  object \n",
      " 2   연도            99166 non-null  object \n",
      " 3   산업분류(대분류)     99166 non-null  object \n",
      " 4   산업분류(중분류)     99166 non-null  object \n",
      " 5   산업분류(소분류)     99166 non-null  object \n",
      " 6   산업분류코드(대분류)   99166 non-null  object \n",
      " 7   산업분류코드(중분류)   99166 non-null  float64\n",
      " 8   산업분류코드(소분류)   99166 non-null  float64\n",
      " 9   CAPEX         6053 non-null   object \n",
      " 10  EBIT          74355 non-null  object \n",
      " 11  EBITDA        74355 non-null  object \n",
      " 12  EV            69671 non-null  object \n",
      " 13  FCF           6644 non-null   object \n",
      " 14  PBR           55624 non-null  object \n",
      " 15  PER           39922 non-null  object \n",
      " 16  ROA           70406 non-null  object \n",
      " 17  ROE           70158 non-null  object \n",
      " 18  ROIC          64683 non-null  object \n",
      " 19  기말발행주식수       97877 non-null  object \n",
      " 20  당기순이익         74367 non-null  object \n",
      " 21  매출액           74367 non-null  object \n",
      " 22  매출총이익         74367 non-null  object \n",
      " 23  매출총이익률        73333 non-null  object \n",
      " 24  부채비율          74036 non-null  object \n",
      " 25  세후영업이익        69690 non-null  object \n",
      " 26  영업이익률         73333 non-null  object \n",
      " 27  영업활동으로인한현금흐름  74102 non-null  object \n",
      " 28  유동부채          69688 non-null  object \n",
      " 29  유동비율          69670 non-null  object \n",
      " 30  유동성장기부채       69688 non-null  object \n",
      " 31  유동자산          69688 non-null  object \n",
      " 32  이자보상배율        52191 non-null  object \n",
      " 33  자기자본비율        74301 non-null  object \n",
      " 34  총자산           74362 non-null  object \n",
      " 35  총자산회전율        70406 non-null  object \n",
      " 36  현금및현금성자산      74362 non-null  object \n",
      "dtypes: float64(2), object(35)\n",
      "memory usage: 28.0+ MB\n"
     ]
    }
   ],
   "source": [
    "df_pivot.info()"
   ]
  },
  {
   "cell_type": "code",
   "execution_count": 23,
   "id": "e8e33e88",
   "metadata": {},
   "outputs": [],
   "source": [
    "# 수치형 변수 타입 변환\n",
    "for column in df_pivot.columns[9:]:\n",
    "    df_pivot[column] = pd.to_numeric(df_pivot[column], errors=\"coerce\")\n",
    "\n",
    "df_pivot[\"연도\"] = pd.to_numeric(df_pivot[\"연도\"], errors=\"coerce\")"
   ]
  },
  {
   "cell_type": "code",
   "execution_count": 24,
   "id": "3bda8ac8",
   "metadata": {},
   "outputs": [
    {
     "name": "stdout",
     "output_type": "stream",
     "text": [
      "<class 'pandas.core.frame.DataFrame'>\n",
      "RangeIndex: 99166 entries, 0 to 99165\n",
      "Data columns (total 37 columns):\n",
      " #   Column        Non-Null Count  Dtype  \n",
      "---  ------        --------------  -----  \n",
      " 0   Symbol        99166 non-null  object \n",
      " 1   Name          99166 non-null  object \n",
      " 2   연도            99166 non-null  int64  \n",
      " 3   산업분류(대분류)     99166 non-null  object \n",
      " 4   산업분류(중분류)     99166 non-null  object \n",
      " 5   산업분류(소분류)     99166 non-null  object \n",
      " 6   산업분류코드(대분류)   99166 non-null  object \n",
      " 7   산업분류코드(중분류)   99166 non-null  float64\n",
      " 8   산업분류코드(소분류)   99166 non-null  float64\n",
      " 9   CAPEX         6053 non-null   float64\n",
      " 10  EBIT          74355 non-null  float64\n",
      " 11  EBITDA        74355 non-null  float64\n",
      " 12  EV            69671 non-null  float64\n",
      " 13  FCF           6644 non-null   float64\n",
      " 14  PBR           55624 non-null  float64\n",
      " 15  PER           39922 non-null  float64\n",
      " 16  ROA           68008 non-null  float64\n",
      " 17  ROE           66080 non-null  float64\n",
      " 18  ROIC          62375 non-null  float64\n",
      " 19  기말발행주식수       97877 non-null  float64\n",
      " 20  당기순이익         74367 non-null  float64\n",
      " 21  매출액           74367 non-null  float64\n",
      " 22  매출총이익         74367 non-null  float64\n",
      " 23  매출총이익률        73333 non-null  float64\n",
      " 24  부채비율          72023 non-null  float64\n",
      " 25  세후영업이익        69690 non-null  float64\n",
      " 26  영업이익률         73333 non-null  float64\n",
      " 27  영업활동으로인한현금흐름  74102 non-null  float64\n",
      " 28  유동부채          69688 non-null  float64\n",
      " 29  유동비율          69670 non-null  float64\n",
      " 30  유동성장기부채       69688 non-null  float64\n",
      " 31  유동자산          69688 non-null  float64\n",
      " 32  이자보상배율        52191 non-null  float64\n",
      " 33  자기자본비율        72022 non-null  float64\n",
      " 34  총자산           74362 non-null  float64\n",
      " 35  총자산회전율        68008 non-null  float64\n",
      " 36  현금및현금성자산      74362 non-null  float64\n",
      "dtypes: float64(30), int64(1), object(6)\n",
      "memory usage: 28.0+ MB\n"
     ]
    }
   ],
   "source": [
    "df_pivot.info()"
   ]
  },
  {
   "cell_type": "code",
   "execution_count": 25,
   "id": "e819e6ac",
   "metadata": {},
   "outputs": [
    {
     "name": "stderr",
     "output_type": "stream",
     "text": [
      "C:\\Users\\PC\\AppData\\Local\\Temp\\ipykernel_18044\\3168844204.py:13: FutureWarning: Not prepending group keys to the result index of transform-like apply. In the future, the group keys will be included in the index, regardless of whether the applied function returns a like-indexed object.\n",
      "To preserve the previous behavior, use\n",
      "\n",
      "\t>>> .groupby(..., group_keys=False)\n",
      "\n",
      "To adopt the future behavior and silence this warning, use \n",
      "\n",
      "\t>>> .groupby(..., group_keys=True)\n",
      "  .apply(lambda x: x.pct_change(3).add(1)**(1/3) - 1))\n"
     ]
    }
   ],
   "source": [
    "### 핵심 지표 계산\n",
    "\n",
    "# 현금흐름\n",
    "df_pivot[\"CFO_NI\"] = df_pivot[\"영업활동으로인한현금흐름\"] / df_pivot[\"당기순이익\"].replace(0, np.nan)\n",
    "df_pivot[\"Accruals\"] = df_pivot[\"당기순이익\"] - df_pivot[\"영업활동으로인한현금흐름\"]\n",
    "\n",
    "# 성장률(YoY)\n",
    "df_pivot = df_pivot.sort_values([\"Symbol\",\"연도\"])\n",
    "df_pivot[\"SalesGrowth\"] = df_pivot.groupby(\"Symbol\")[\"매출액\"].pct_change()\n",
    "df_pivot[\"EBITGrowth\"] = df_pivot.groupby(\"Symbol\")[\"세후영업이익\"].pct_change()\n",
    "df_pivot[\"NIGrowth\"] = df_pivot.groupby(\"Symbol\")[\"당기순이익\"].pct_change()\n",
    "df_pivot[\"SalesCAGR3Y\"] = (df_pivot.groupby(\"Symbol\")[\"매출액\"]\n",
    "                           .apply(lambda x: x.pct_change(3).add(1)**(1/3) - 1))"
   ]
  },
  {
   "cell_type": "code",
   "execution_count": 26,
   "id": "1bee407c",
   "metadata": {},
   "outputs": [],
   "source": [
    "# 가치배수\n",
    "df_pivot[\"EV_EBITDA\"] = df_pivot[\"EV\"] / df_pivot[\"EBITDA\"]"
   ]
  },
  {
   "cell_type": "code",
   "execution_count": 27,
   "id": "a044a11c",
   "metadata": {},
   "outputs": [],
   "source": [
    "# Piotroski F-Score 계산\n",
    "df_pivot = df_pivot.sort_values([\"Symbol\",\"연도\"])\n",
    "\n",
    "# 1. Profitability 항목\n",
    "cond1 = (df_pivot[\"당기순이익\"] > 0).astype(int)\n",
    "cond2 = (df_pivot[\"영업활동으로인한현금흐름\"] > 0).astype(int)\n",
    "cond3 = (df_pivot[\"영업활동으로인한현금흐름\"] > df_pivot[\"당기순이익\"]).astype(int)\n",
    "cond4 = (df_pivot.groupby(\"Symbol\")[\"ROA\"].diff() > 0).astype(int)\n",
    "\n",
    "# 2. Leverage/Liquidity 항목\n",
    "cond5 = (df_pivot.groupby(\"Symbol\")[\"유동성장기부채\"].diff() < 0).astype(int)   # 장기부채 감소\n",
    "cond6 = (df_pivot.groupby(\"Symbol\")[\"유동비율\"].diff() > 0).astype(int)\n",
    "# 전년 대비 발행주식수 변화 확인\n",
    "df_pivot[\"Shares_Issued\"] = df_pivot.groupby(\"Symbol\")[\"기말발행주식수\"].diff()\n",
    "cond7 = (df_pivot[\"Shares_Issued\"].fillna(0) == 0).astype(int)   # 실제 데이터에 맞게 변수 필요\n",
    "\n",
    "# 3. Operating Efficiency 항목\n",
    "cond8 = (df_pivot.groupby(\"Symbol\")[\"매출총이익률\"].diff() > 0).astype(int)\n",
    "cond9 = (df_pivot.groupby(\"Symbol\")[\"총자산회전율\"].diff() > 0).astype(int)\n",
    "\n",
    "# 최종 F-Score\n",
    "df_pivot[\"F_Score\"] = cond1 + cond2 + cond3 + cond4 + cond5 + cond6 + cond7 + cond8 + cond9\n"
   ]
  },
  {
   "cell_type": "code",
   "execution_count": 28,
   "id": "c4f8c6b6",
   "metadata": {},
   "outputs": [],
   "source": [
    "### 산업별 z-score 중립화\n",
    "\n",
    "features = [\n",
    "    'FCF', 'PBR', 'PER', 'ROA', 'ROE', 'ROIC', '매출총이익률', '영업이익률',\n",
    "    '총자산회전율', 'CFO_NI', 'Accruals', 'SalesGrowth', 'EBITGrowth',\n",
    "    '부채비율', '이자보상배율', 'NIGrowth', 'SalesCAGR3Y', 'EV_EBITDA',\n",
    "    '유동비율', 'F_Score'\n",
    "]\n",
    "\n",
    "for f in features:\n",
    "    df_pivot[f+\"_z\"] = df_pivot.groupby([\"연도\", \"산업분류(중분류)\"])[f].transform(\n",
    "        lambda x: (x - x.mean()) / x.std(ddof=0)\n",
    "    )"
   ]
  },
  {
   "cell_type": "code",
   "execution_count": 29,
   "id": "bf8af054",
   "metadata": {},
   "outputs": [
    {
     "name": "stdout",
     "output_type": "stream",
     "text": [
      "    Symbol    연도 산업분류(중분류)  FCF_z     PBR_z     PER_z     ROA_z     ROE_z  \\\n",
      "0  A000010  1981       금융업    NaN  1.373178  0.865892       NaN       NaN   \n",
      "1  A000010  1982       금융업    NaN  1.487818  0.211123 -0.423324 -0.330436   \n",
      "2  A000010  1983       금융업    NaN -0.200904  0.133910 -0.460941 -0.497389   \n",
      "3  A000010  1984       금융업    NaN -0.668153  1.129126 -0.685908 -1.145332   \n",
      "4  A000010  1985       금융업    NaN -0.265979  0.953835 -0.489840 -0.736597   \n",
      "\n",
      "   ROIC_z  매출총이익률_z  ...  Accruals_z  SalesGrowth_z  EBITGrowth_z    부채비율_z  \\\n",
      "0     NaN -0.928057  ...   -4.236613            NaN           NaN  1.575032   \n",
      "1     NaN -0.240005  ...    2.392559            NaN           NaN  1.501181   \n",
      "2     NaN -0.312386  ...   -4.688299            NaN           NaN  1.161707   \n",
      "3     NaN -0.715566  ...    2.074487      -0.340281           NaN  1.243963   \n",
      "4     NaN -0.582079  ...   -5.365459            NaN           NaN  1.226170   \n",
      "\n",
      "   이자보상배율_z  NIGrowth_z  SalesCAGR3Y_z  EV_EBITDA_z  유동비율_z  F_Score_z  \n",
      "0       NaN         NaN            NaN          NaN     NaN   1.117647  \n",
      "1       NaN   -0.135171            NaN          NaN     NaN  -0.321412  \n",
      "2       NaN   -0.459071            NaN          NaN     NaN   0.672214  \n",
      "3       NaN   -0.876881            NaN          NaN     NaN  -0.645314  \n",
      "4       NaN    0.178997            NaN          NaN     NaN   1.014599  \n",
      "\n",
      "[5 rows x 23 columns]\n"
     ]
    }
   ],
   "source": [
    "# 결과 확인\n",
    "print(df_pivot[[\"Symbol\", \"연도\", \"산업분류(중분류)\"] + [f+\"_z\" for f in features]].head())"
   ]
  },
  {
   "cell_type": "code",
   "execution_count": 30,
   "id": "cead8fb0",
   "metadata": {},
   "outputs": [],
   "source": [
    "# 전처리 완료된 데이터프레임 저장\n",
    "df_pivot.to_csv(\"data/preprocessed_accounts_data.csv\", index=False)"
   ]
  },
  {
   "cell_type": "markdown",
   "id": "33a9af6e",
   "metadata": {},
   "source": [
    "# Calculate Scores & Extract Top/Bottom 10 Companies"
   ]
  },
  {
   "cell_type": "code",
   "execution_count": 31,
   "id": "22ae7ae5",
   "metadata": {},
   "outputs": [
    {
     "name": "stdout",
     "output_type": "stream",
     "text": [
      "======== Top 10 ========\n",
      "       Symbol     Name  FinalScore\n",
      "2857  A475830   오름테라퓨틱    1.925280\n",
      "2882  A483650    달바글로벌    1.381036\n",
      "2876  A481070   에이유브랜즈    1.251749\n",
      "2615  A403870     HPSP    1.230882\n",
      "1139  A058470     리노공업    1.091762\n",
      "2806  A462860       더즌    0.999078\n",
      "2721  A445090    에이직랜드    0.995522\n",
      "1827  A151860  KG에코솔루션    0.966136\n",
      "701   A027560     케이디엠    0.965089\n",
      "1196  A064760     티씨케이    0.964818\n",
      "\n",
      "======== Bottom 10 ========\n",
      "       Symbol        Name  FinalScore\n",
      "2904  A499790       GS피앤엘   -2.354932\n",
      "2899  A489790        한화비전   -1.991673\n",
      "2847  A475150      SK이터닉스   -1.812298\n",
      "2759  A452430      사피엔반도체   -1.699155\n",
      "1346  A078650       지나인제약   -1.580717\n",
      "1091  A053660        현진소재   -1.560418\n",
      "671   A025340      그린기술투자   -1.543172\n",
      "1661  A114570     지스마트글로벌   -1.372788\n",
      "1136  A058420        제이웨이   -1.360950\n",
      "31    A0004Y0  디비금융제14호스팩   -1.282100\n"
     ]
    }
   ],
   "source": [
    "z_features = [f + \"_z\" for f in features]\n",
    "\n",
    "# 2021~2023 데이터만 필터링\n",
    "df_sub = df_pivot[df_pivot[\"연도\"].isin([2021, 2022, 2023])].copy()\n",
    "\n",
    "# 기업별 평균 z-score 계산\n",
    "df_score = (\n",
    "    df_sub.groupby([\"Symbol\", \"Name\"])[z_features]\n",
    "        .mean()\n",
    "        .reset_index()\n",
    ")\n",
    "\n",
    "# 최종 스코어 생성\n",
    "df_score[\"FinalScore\"] = df_score[z_features].mean(axis=1)\n",
    "\n",
    "# 상위/하위 20개 기업 추출\n",
    "top10 = df_score.nlargest(10, \"FinalScore\")\n",
    "bottom10 = df_score.nsmallest(10, \"FinalScore\")\n",
    "\n",
    "print(\"======== Top 10 ========\")\n",
    "print(top10[[\"Symbol\", \"Name\", \"FinalScore\"]])\n",
    "\n",
    "print(\"\\n======== Bottom 10 ========\")\n",
    "print(bottom10[[\"Symbol\", \"Name\", \"FinalScore\"]])"
   ]
  },
  {
   "cell_type": "code",
   "execution_count": 32,
   "id": "549fb4bf",
   "metadata": {},
   "outputs": [],
   "source": [
    "# 추천 결과 저장\n",
    "top10.to_csv(\"outputs/top10.csv\", index=False)\n",
    "bottom10.to_csv(\"outputs/bottom10.csv\", index=False)"
   ]
  },
  {
   "cell_type": "code",
   "execution_count": 34,
   "id": "0b1754e5",
   "metadata": {},
   "outputs": [],
   "source": [
    "# z-score 및 최종 점수 저장\n",
    "df_score.to_csv(\"outputs/score.csv\", index=False)"
   ]
  }
 ],
 "metadata": {
  "kernelspec": {
   "display_name": "Python 3",
   "language": "python",
   "name": "python3"
  },
  "language_info": {
   "codemirror_mode": {
    "name": "ipython",
    "version": 3
   },
   "file_extension": ".py",
   "mimetype": "text/x-python",
   "name": "python",
   "nbconvert_exporter": "python",
   "pygments_lexer": "ipython3",
   "version": "3.10.11"
  }
 },
 "nbformat": 4,
 "nbformat_minor": 5
}
