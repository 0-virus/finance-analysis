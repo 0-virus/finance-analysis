{
 "cells": [
  {
   "cell_type": "markdown",
   "id": "596621fa",
   "metadata": {},
   "source": [
    "# Import Libraries"
   ]
  },
  {
   "cell_type": "code",
   "execution_count": 1,
   "id": "44509b7a",
   "metadata": {},
   "outputs": [],
   "source": [
    "from pathlib import Path\n",
    "import pandas as pd\n",
    "import numpy as np\n",
    "import matplotlib.pyplot as plt"
   ]
  },
  {
   "cell_type": "markdown",
   "id": "4f29a140",
   "metadata": {},
   "source": [
    "# Set Parameters & Paths"
   ]
  },
  {
   "cell_type": "code",
   "execution_count": 2,
   "id": "b0f21b99",
   "metadata": {},
   "outputs": [],
   "source": [
    "### 파라미터 설정\n",
    "\n",
    "SEED = 42\n",
    "TARGET_YEAR = 2023                    # use info up to 2023 for valuation\n",
    "\n",
    "# Relative valuation (3y weighted cheapness) weights\n",
    "W_2023, W_2022, W_2021 = 0.5, 0.3, 0.2\n",
    "\n",
    "MIN_INDUSTRY_SIZE = 100               # 중분류별 표본 최소 기업 수\n",
    "SAMPLE_PER_INDUSTRY = 5               # 중분류별 랜덤 샘플 수\n",
    "\n",
    "# Valuation model assumptions\n",
    "RISK_FREE = 0.03                      # 3% risk-free\n",
    "EQUITY_RISK_PREMIUM = 0.05            # 5% equity risk premium (conservative)\n",
    "BETA_DEFAULT = 1.0                    # if beta unavailable\n",
    "COST_OF_EQUITY_CAP = 0.20             # ceiling for cost of equity to avoid extreme\n",
    "LONG_TERM_GROWTH_CAP = 0.05           # cap LT growth at 5%\n",
    "DEFAULT_PAYOUT = 0.30                 # 30% payout ratio if dividends unknown\n",
    "PAYOUT_UP = 0.35                      # if cashflow quality strong\n",
    "PAYOUT_DOWN = 0.25                    # if cashflow quality weak\n",
    "RI_HORIZON_YEARS = 5                  # projection horizon for RIM\n",
    "FADE_TO_G = True                      # fade NI growth to terminal g linearly"
   ]
  },
  {
   "cell_type": "code",
   "execution_count": 3,
   "id": "fe6d16ca",
   "metadata": {},
   "outputs": [],
   "source": [
    "### 경로 설정\n",
    "\n",
    "top10_fp = Path(\"outputs/top10.csv\")\n",
    "bottom10_fp = Path(\"outputs/bottom10.csv\")\n",
    "all_fp = Path(\"data/preprocessed_accounts_data.csv\")  # <-- main dataset provided by user\n",
    "\n",
    "# Defensive file checks\n",
    "missing = [p.name for p in [top10_fp, bottom10_fp, all_fp] if not p.exists()]\n",
    "if missing:\n",
    "    raise FileNotFoundError(f\"다음 파일을 찾을 수 없습니다: {missing}. \"\n",
    "                            f\"경로 또는 파일명을 확인해주세요.\")"
   ]
  },
  {
   "cell_type": "markdown",
   "id": "bd45e23a",
   "metadata": {},
   "source": [
    "# Load Data"
   ]
  },
  {
   "cell_type": "code",
   "execution_count": 4,
   "id": "3578fede",
   "metadata": {},
   "outputs": [],
   "source": [
    "# Try a couple of encodings defensively\n",
    "def _read_csv_safe(path):\n",
    "    for enc in (\"utf-8-sig\", \"utf-8\", \"cp949\"):\n",
    "        try:\n",
    "            return pd.read_csv(path, dtype={\"Symbol\":\"string\"}, encoding=enc)\n",
    "        except Exception:\n",
    "            continue\n",
    "    # fallback\n",
    "    return pd.read_csv(path, dtype={\"Symbol\":\"string\"})\n",
    "\n",
    "top10 = _read_csv_safe(top10_fp)\n",
    "bottom10 = _read_csv_safe(bottom10_fp)\n",
    "df = _read_csv_safe(all_fp)\n"
   ]
  },
  {
   "cell_type": "code",
   "execution_count": 5,
   "id": "1406cfe1",
   "metadata": {},
   "outputs": [],
   "source": [
    "# Ensure numeric for selected cols\n",
    "def to_num(df, cols):\n",
    "    for c in cols:\n",
    "        if c in df.columns:\n",
    "            df[c] = pd.to_numeric(df[c], errors=\"coerce\")\n",
    "    return df\n",
    "\n",
    "numeric_cols = [\n",
    "    \"연도\",\"PER\",\"PBR\",\"EV_EBITDA\",\"총자산\",\"자기자본비율\",\"당기순이익\",\"기말발행주식수\",\n",
    "    \"SalesCAGR3Y\",\"NIGrowth\"\n",
    "]\n",
    "df = to_num(df, numeric_cols)"
   ]
  },
  {
   "cell_type": "code",
   "execution_count": 6,
   "id": "da0f5ce6",
   "metadata": {},
   "outputs": [],
   "source": [
    "# Keep only data up to TARGET_YEAR; pick the latest available per firm for cross-sectional valuation\n",
    "df = df[df[\"연도\"] <= TARGET_YEAR].copy()\n",
    "df.sort_values([\"Symbol\", \"연도\"], inplace=True)\n",
    "latest = df.groupby(\"Symbol\").tail(1).copy()"
   ]
  },
  {
   "cell_type": "markdown",
   "id": "df6d03c6",
   "metadata": {},
   "source": [
    "# Build target universe"
   ]
  },
  {
   "cell_type": "code",
   "execution_count": 7,
   "id": "36cae4dd",
   "metadata": {},
   "outputs": [],
   "source": [
    "chosen = pd.concat([top10[[\"Symbol\"]], bottom10[[\"Symbol\"]]]).drop_duplicates()\n",
    "chosen = chosen.merge(latest[[\"Symbol\",\"Name\",\"연도\",\"산업분류(중분류)\"]], on=\"Symbol\", how=\"left\")"
   ]
  },
  {
   "cell_type": "code",
   "execution_count": null,
   "id": "ccb20585",
   "metadata": {},
   "outputs": [],
   "source": [
    "# MIN_INDUSTRY_SIZE 이상의 기업이 속한 산업군 추출(극단값 처리)\n",
    "ind_counts = latest.groupby(\"산업분류(중분류)\")[\"Symbol\"].nunique().reset_index(name=\"n_firms\")\n",
    "big_inds = ind_counts[ind_counts[\"n_firms\"] >= MIN_INDUSTRY_SIZE][\"산업분류(중분류)\"]"
   ]
  },
  {
   "cell_type": "code",
   "execution_count": 9,
   "id": "4444d5e8",
   "metadata": {},
   "outputs": [],
   "source": [
    "# 추출된 산업군에서 랜덤 샘플링\n",
    "rng = np.random.default_rng(SEED)\n",
    "samples = []\n",
    "for ind in big_inds:\n",
    "    pool = latest[latest[\"산업분류(중분류)\"] == ind]\n",
    "    if len(pool) == 0:\n",
    "        continue\n",
    "    k = min(SAMPLE_PER_INDUSTRY, len(pool))\n",
    "    idx = rng.choice(pool.index, size=k, replace=False)\n",
    "    samples.append(pool.loc[idx, [\"Symbol\"]])\n",
    "samples = pd.concat(samples) if samples else pd.DataFrame(columns=[\"Symbol\"])\n"
   ]
  },
  {
   "cell_type": "code",
   "execution_count": 10,
   "id": "71578607",
   "metadata": {},
   "outputs": [],
   "source": [
    "# 최종 평가 대상 기업 선정\n",
    "target_syms = pd.concat([chosen[[\"Symbol\"]], samples]).drop_duplicates()\n",
    "target = target_syms.merge(latest, on=\"Symbol\", how=\"left\")"
   ]
  },
  {
   "cell_type": "code",
   "execution_count": 11,
   "id": "6e84f2aa",
   "metadata": {},
   "outputs": [
    {
     "data": {
      "text/plain": [
       "(85, 66)"
      ]
     },
     "execution_count": 11,
     "metadata": {},
     "output_type": "execute_result"
    }
   ],
   "source": [
    "target.shape"
   ]
  },
  {
   "cell_type": "markdown",
   "id": "f486b5f8",
   "metadata": {},
   "source": [
    "# 3-Years Normalization "
   ]
  },
  {
   "cell_type": "code",
   "execution_count": 12,
   "id": "019b7b4c",
   "metadata": {},
   "outputs": [],
   "source": [
    "panel3 = target[target[\"연도\"].between(2021, 2023)].copy()\n",
    "\n",
    "# 3y averages for normalization\n",
    "agg_dict = {}\n",
    "if \"당기순이익\" in panel3.columns: agg_dict[\"당기순이익\"] = \"mean\"\n",
    "if \"매출액\" in panel3.columns: agg_dict[\"매출액\"] = \"mean\"\n",
    "if not agg_dict:\n",
    "    raise ValueError(\"패널 데이터에 필요한 컬럼(당기순이익, 매출액)이 없습니다.\")\n",
    "\n",
    "avg3 = panel3.groupby(\"Symbol\").agg(agg_dict)\n",
    "avg3 = avg3.rename(columns={\"당기순이익\":\"NI_avg3\",\"매출액\":\"Sales_avg3\"}).reset_index()"
   ]
  },
  {
   "cell_type": "code",
   "execution_count": 13,
   "id": "277fc061",
   "metadata": {},
   "outputs": [],
   "source": [
    "# NI CAGR proxy from 2021 to 2023 if available (2-year CAGR)\n",
    "def cagr_2y(group, col):\n",
    "    g = group.sort_values(\"연도\")\n",
    "    if {2021, 2023}.issubset(set(g[\"연도\"])):\n",
    "        v1 = g.loc[g[\"연도\"]==2021, col].values[0]\n",
    "        v3 = g.loc[g[\"연도\"]==2023, col].values[0]\n",
    "        if pd.notna(v1) and pd.notna(v3) and v1 not in [0, np.nan]:\n",
    "            return (v3 / v1) ** (1/2) - 1\n",
    "    return np.nan\n",
    "\n",
    "ni_cagr2y = panel3.groupby(\"Symbol\").apply(lambda g: cagr_2y(g, \"당기순이익\")).rename(\"NI_CAGR2Y\").reset_index()"
   ]
  },
  {
   "cell_type": "code",
   "execution_count": 14,
   "id": "c63b9a30",
   "metadata": {},
   "outputs": [],
   "source": [
    "# Merge normalization info into latest\n",
    "latest_norm = latest.merge(avg3, on=\"Symbol\", how=\"left\").merge(ni_cagr2y, on=\"Symbol\", how=\"left\")"
   ]
  },
  {
   "cell_type": "markdown",
   "id": "4999d925",
   "metadata": {},
   "source": [
    "# 상대가치 평가"
   ]
  },
  {
   "cell_type": "code",
   "execution_count": 15,
   "id": "a3d32e0e",
   "metadata": {},
   "outputs": [],
   "source": [
    "peer_cols = [c for c in [\"PER\",\"PBR\",\"EV_EBITDA\"] if c in df.columns]\n",
    "\n",
    "def year_industry_percentiles(subdf, year):\n",
    "    tmp = subdf[subdf[\"연도\"]==year][[\"Symbol\",\"산업분류(중분류)\"] + peer_cols].copy()\n",
    "    for col in peer_cols:\n",
    "        tmp[f\"{col}_prank_{year}\"] = tmp.groupby(\"산업분류(중분류)\")[col].transform(lambda s: s.rank(pct=True))\n",
    "        tmp[f\"{col}_cheap_{year}\"] = 1.0 - tmp[f\"{col}_prank_{year}\"]\n",
    "    return tmp[[\"Symbol\",\"산업분류(중분류)\"] + [f\"{c}_cheap_{year}\" for c in peer_cols]]\n",
    "\n",
    "def safe_year_df(year):\n",
    "    if (df[\"연도\"]==year).any():\n",
    "        return year_industry_percentiles(df, year)\n",
    "    else:\n",
    "        # empty frame with needed columns\n",
    "        cols = [\"Symbol\",\"산업분류(중분류)\"] + [f\"{c}_cheap_{year}\" for c in peer_cols]\n",
    "        return pd.DataFrame(columns=cols)\n",
    "\n",
    "cheap_2023 = safe_year_df(2023)\n",
    "cheap_2022 = safe_year_df(2022)\n",
    "cheap_2021 = safe_year_df(2021)\n",
    "\n",
    "cheap_all = latest[[\"Symbol\",\"산업분류(중분류)\"]].merge(cheap_2023, on=[\"Symbol\",\"산업분류(중분류)\"], how=\"left\") \\\n",
    "    .merge(cheap_2022, on=[\"Symbol\",\"산업분류(중분류)\"], how=\"left\") \\\n",
    "    .merge(cheap_2021, on=[\"Symbol\",\"산업분류(중분류)\"], how=\"left\")"
   ]
  },
  {
   "cell_type": "code",
   "execution_count": 16,
   "id": "b679e7df",
   "metadata": {},
   "outputs": [],
   "source": [
    "# Weighted average with available weights\n",
    "for col in peer_cols:\n",
    "    cols_year = [f\"{col}_cheap_2023\", f\"{col}_cheap_2022\", f\"{col}_cheap_2021\"]\n",
    "    weights = np.array([W_2023, W_2022, W_2021], dtype=float)\n",
    "\n",
    "    def _weighted(row):\n",
    "        vals = np.array([row.get(c) for c in cols_year], dtype=float)\n",
    "        mask = ~np.isnan(vals)\n",
    "        if not mask.any():\n",
    "            return np.nan\n",
    "        w = weights[mask]\n",
    "        w = w / w.sum()\n",
    "        return float(np.dot(vals[mask], w))\n",
    "\n",
    "    cheap_all[f\"{col}_cheap_3y\"] = cheap_all.apply(_weighted, axis=1)"
   ]
  },
  {
   "cell_type": "code",
   "execution_count": 17,
   "id": "92fff190",
   "metadata": {},
   "outputs": [
    {
     "name": "stderr",
     "output_type": "stream",
     "text": [
      "C:\\Users\\PC\\AppData\\Local\\Packages\\PythonSoftwareFoundation.Python.3.10_qbz5n2kfra8p0\\LocalCache\\local-packages\\Python310\\site-packages\\numpy\\lib\\nanfunctions.py:1217: RuntimeWarning: All-NaN slice encountered\n",
      "  r, k = function_base._ureduce(a, func=_nanmedian, axis=axis, out=out,\n",
      "C:\\Users\\PC\\AppData\\Local\\Packages\\PythonSoftwareFoundation.Python.3.10_qbz5n2kfra8p0\\LocalCache\\local-packages\\Python310\\site-packages\\numpy\\lib\\nanfunctions.py:1217: RuntimeWarning: All-NaN slice encountered\n",
      "  r, k = function_base._ureduce(a, func=_nanmedian, axis=axis, out=out,\n"
     ]
    }
   ],
   "source": [
    "# 2023 gap-to-median for interpretability\n",
    "rel2023 = df[df[\"연도\"]==2023][[\"Symbol\",\"산업분류(중분류)\"] + peer_cols].copy()\n",
    "for col in peer_cols:\n",
    "    rel2023[f\"{col}_gap_med_2023\"] = rel2023.groupby(\"산업분류(중분류)\")[col].transform(\n",
    "        lambda s: s / np.nanmedian(s.values) - 1.0\n",
    "    )\n",
    "\n",
    "rel_merge = latest[[\"Symbol\",\"Name\",\"산업분류(중분류)\"]].merge(cheap_all, on=[\"Symbol\",\"산업분류(중분류)\"], how=\"left\") \\\n",
    "    .merge(rel2023[[\"Symbol\"] + [f\"{c}_gap_med_2023\" for c in peer_cols]], on=\"Symbol\", how=\"left\")\n",
    "\n",
    "# Only target firms\n",
    "rel_tgt = latest[[\"Symbol\",\"Name\",\"산업분류(중분류)\"]].merge(rel_merge, on=[\"Symbol\",\"Name\",\"산업분류(중분류)\"], how=\"left\")"
   ]
  },
  {
   "cell_type": "markdown",
   "id": "e7e3db53",
   "metadata": {},
   "source": [
    "# 절대가치 평가"
   ]
  },
  {
   "cell_type": "code",
   "execution_count": 18,
   "id": "525bdc2c",
   "metadata": {},
   "outputs": [],
   "source": [
    "# Build working frame with normalization features\n",
    "work = latest.merge(latest_norm[[\"Symbol\",\"NI_avg3\",\"NI_CAGR2Y\"]], on=\"Symbol\", how=\"left\")\n",
    "\n",
    "def estimate_cost_of_equity(row):\n",
    "    beta = BETA_DEFAULT\n",
    "    coe = RISK_FREE + beta * EQUITY_RISK_PREMIUM\n",
    "    return float(min(coe, COST_OF_EQUITY_CAP))\n",
    "\n",
    "def estimate_lt_growth(row):\n",
    "    g = row.get(\"SalesCAGR3Y\", np.nan)\n",
    "    if pd.isna(g) or not np.isfinite(g):\n",
    "        g = row.get(\"NI_CAGR2Y\", np.nan)  # fallback\n",
    "    if pd.isna(g) or not np.isfinite(g):\n",
    "        g = 0.02\n",
    "    g = float(min(g, LONG_TERM_GROWTH_CAP))\n",
    "    return g\n",
    "\n",
    "def choose_payout(row):\n",
    "    # Adjust payout using cashflow quality heuristics if available\n",
    "    payout = DEFAULT_PAYOUT\n",
    "    cfo_ni = row.get(\"CFO_NI\", np.nan)\n",
    "    accr = row.get(\"Accruals\", np.nan)\n",
    "    if pd.notna(cfo_ni) and pd.notna(accr):\n",
    "        if (cfo_ni >= 1.0) and (accr <= 0):\n",
    "            payout = PAYOUT_UP\n",
    "        elif (cfo_ni < 0.5) or (accr > 0):\n",
    "            payout = PAYOUT_DOWN\n",
    "    return float(payout)\n",
    "\n",
    "def estimate_dividend(row):\n",
    "    # DPS0 based on NI_avg3 for normalization\n",
    "    ni = row.get(\"NI_avg3\", np.nan)\n",
    "    if pd.isna(ni):\n",
    "        ni = row.get(\"당기순이익\", np.nan)\n",
    "    shares = row.get(\"기말발행주식수\", np.nan)\n",
    "    if pd.isna(shares) or shares == 0:\n",
    "        return np.nan, np.nan, np.nan\n",
    "    payout = choose_payout(row)\n",
    "    dps0 = (ni * payout) / shares\n",
    "    return dps0, payout, shares\n",
    "\n",
    "def ddm_valuation(row):\n",
    "    r = estimate_cost_of_equity(row)\n",
    "    g = estimate_lt_growth(row)\n",
    "    dps0, payout, shares = estimate_dividend(row)\n",
    "    if any(pd.isna(x) for x in [dps0, r, g, shares]) or (r <= g):\n",
    "        return np.nan, np.nan, r, g, payout\n",
    "    d1 = dps0 * (1.0 + g)\n",
    "    price = d1 / (r - g)\n",
    "    equity_value = price * shares\n",
    "    return price, equity_value, r, g, payout\n",
    "\n",
    "def rim_valuation(row):\n",
    "    total_assets = row.get(\"총자산\", np.nan)\n",
    "    eq_ratio = row.get(\"자기자본비율\", np.nan)\n",
    "    ni0 = row.get(\"NI_avg3\", np.nan)\n",
    "    if pd.isna(ni0):\n",
    "        ni0 = row.get(\"당기순이익\", np.nan)\n",
    "    shares = row.get(\"기말발행주식수\", np.nan)\n",
    "\n",
    "    if any(pd.isna(x) for x in [total_assets, eq_ratio, ni0]) or total_assets <= 0 or eq_ratio <= 0:\n",
    "        return np.nan, np.nan, np.nan, np.nan, np.nan\n",
    "\n",
    "    B0 = total_assets * eq_ratio\n",
    "    r = estimate_cost_of_equity(row)\n",
    "    g = estimate_lt_growth(row)\n",
    "    H = RI_HORIZON_YEARS\n",
    "\n",
    "    gi0 = row.get(\"NIGrowth\", np.nan)\n",
    "    if pd.isna(gi0) or not np.isfinite(gi0):\n",
    "        gi0 = row.get(\"NI_CAGR2Y\", np.nan)\n",
    "    if pd.isna(gi0) or not np.isfinite(gi0):\n",
    "        gi0 = g\n",
    "    gi0 = float(np.clip(gi0, -0.5, 0.5))\n",
    "\n",
    "    # project NI\n",
    "    ni_path = []\n",
    "    for t in range(1, H+1):\n",
    "        gt = gi0 + (g - gi0) * (t / H) if FADE_TO_G else gi0\n",
    "        last = ni0 if t == 1 else ni_path[-1]\n",
    "        ni_path.append(last * (1.0 + gt))\n",
    "\n",
    "    payout = choose_payout(row)\n",
    "    B = B0\n",
    "    PV_RI = 0.0\n",
    "    for t, NI in enumerate(ni_path, start=1):\n",
    "        RI_t = NI - r * B\n",
    "        PV_RI += RI_t / ((1.0 + r) ** t)\n",
    "        div = payout * NI\n",
    "        B = B + NI - div\n",
    "\n",
    "    NI_T = ni_path[-1] if ni_path else np.nan\n",
    "    if pd.isna(NI_T) or r <= g:\n",
    "        V0 = np.nan\n",
    "    else:\n",
    "        div_T = payout * NI_T\n",
    "        B_T = B + NI_T - div_T\n",
    "        RI_T1 = (NI_T * (1.0 + g)) - r * B_T\n",
    "        term_val = RI_T1 / ((r - g) * ((1.0 + r) ** H))\n",
    "        V0 = B0 + PV_RI + term_val\n",
    "\n",
    "    price = np.nan\n",
    "    if not pd.isna(V0) and not pd.isna(shares) and shares > 0:\n",
    "        price = V0 / shares\n",
    "    return V0, price, r, g, payout"
   ]
  },
  {
   "cell_type": "code",
   "execution_count": 19,
   "id": "16bf921e",
   "metadata": {},
   "outputs": [],
   "source": [
    "abs_rows = []\n",
    "for _, row in work.iterrows():\n",
    "    ddm_price, ddm_equity, r1, g1, payout1 = ddm_valuation(row)\n",
    "    rim_equity, rim_price, r2, g2, payout2 = rim_valuation(row)\n",
    "    abs_rows.append({\n",
    "        \"Symbol\": row[\"Symbol\"],\n",
    "        \"Name\": row.get(\"Name\", np.nan),\n",
    "        # DDM\n",
    "        \"DDM_price\": ddm_price,\n",
    "        \"DDM_equity_value\": ddm_equity,\n",
    "        \"DDM_r_used\": r1,\n",
    "        \"DDM_g_used\": g1,\n",
    "        \"DDM_payout_used\": payout1,\n",
    "        # RIM\n",
    "        \"RIM_price\": rim_price,\n",
    "        \"RIM_equity_value\": rim_equity,\n",
    "        \"RIM_r_used\": r2,\n",
    "        \"RIM_g_used\": g2,\n",
    "        \"RIM_payout_used\": payout2,\n",
    "        # Normalization\n",
    "        \"NI_avg3\": row.get(\"NI_avg3\", np.nan),\n",
    "        \"NI_CAGR2Y\": row.get(\"NI_CAGR2Y\", np.nan),\n",
    "        \"SalesCAGR3Y\": row.get(\"SalesCAGR3Y\", np.nan),\n",
    "    })\n",
    "abs_df = pd.DataFrame(abs_rows)"
   ]
  },
  {
   "cell_type": "markdown",
   "id": "c7ea0ef8",
   "metadata": {},
   "source": [
    "# Combine relative + absolute for target firms"
   ]
  },
  {
   "cell_type": "code",
   "execution_count": 20,
   "id": "bc4db13e",
   "metadata": {},
   "outputs": [],
   "source": [
    "out = rel_tgt.merge(abs_df, on=[\"Symbol\",\"Name\"], how=\"left\")\n",
    "\n",
    "# Add 2023 raw peer metrics for reference\n",
    "cols_add = [c for c in [\"PER\",\"PBR\",\"EV_EBITDA\",\"기말발행주식수\",\"총자산\",\"자기자본비율\",\"당기순이익\",\"CFO_NI\",\"Accruals\"] if c in latest.columns]\n",
    "out = out.merge(latest[[\"Symbol\"] + cols_add], on=\"Symbol\", how=\"left\")\n"
   ]
  },
  {
   "cell_type": "code",
   "execution_count": 21,
   "id": "6defe84a",
   "metadata": {},
   "outputs": [],
   "source": [
    "# Sort and save\n",
    "out.sort_values([\"산업분류(중분류)\",\"Name\"], inplace=True)\n",
    "\n",
    "out_fp = Path(\"outputs/valuation_results_3y.csv\")\n",
    "out.to_csv(out_fp, index=False, encoding=\"utf-8-sig\")"
   ]
  },
  {
   "cell_type": "markdown",
   "id": "f9645863",
   "metadata": {},
   "source": [
    "# Scenarios & Sensitivity"
   ]
  },
  {
   "cell_type": "code",
   "execution_count": 22,
   "id": "342b505d",
   "metadata": {},
   "outputs": [],
   "source": [
    "def dps0_unit(row):\n",
    "    ni = row.get(\"NI_avg3\", np.nan)\n",
    "    if pd.isna(ni): ni = row.get(\"당기순이익\", np.nan)\n",
    "    shares = row.get(\"기말발행주식수\", np.nan)\n",
    "    if pd.isna(ni) or pd.isna(shares) or shares == 0: return np.nan\n",
    "    return float(ni / shares)\n",
    "\n",
    "def ddm_price_from_row(row, r, g, payout):\n",
    "    dps0 = dps0_unit(row)\n",
    "    if any(pd.isna(x) for x in [dps0, r, g, payout]): return np.nan\n",
    "    g = clamp_g(r, g)\n",
    "    d1 = dps0 * payout * (1.0 + g)\n",
    "    if r <= g: return np.nan\n",
    "    return float(d1 / (r - g))\n",
    "\n",
    "def rim_price_from_row(row, r, g, payout):\n",
    "    # reuse the RIM function pieces above for price only\n",
    "    ta = row.get(\"총자산\", np.nan)\n",
    "    eqr = row.get(\"자기자본비율\", np.nan)\n",
    "    shares = row.get(\"기말발행주식수\", np.nan)\n",
    "    ni0 = row.get(\"NI_avg3\", np.nan)\n",
    "    if pd.isna(ni0): ni0 = row.get(\"당기순이익\", np.nan)\n",
    "    if any(pd.isna(x) for x in [ta, eqr, shares, ni0]): return np.nan\n",
    "    B0 = ta * eqr\n",
    "    H = RI_HORIZON_YEARS\n",
    "    gi0 = row.get(\"NI_CAGR2Y\", np.nan)\n",
    "    if pd.isna(gi0): gi0 = row.get(\"RIM_g_used\", np.nan)\n",
    "    if pd.isna(gi0): gi0 = g\n",
    "    gi0 = float(np.clip(gi0, -0.5, 0.5))\n",
    "    g = clamp_g(r, g)\n",
    "\n",
    "    ni_path = []\n",
    "    for t in range(1, H+1):\n",
    "        gt = gi0 + (g - gi0) * (t / H) if FADE_TO_G else gi0\n",
    "        last = ni0 if t == 1 else ni_path[-1]\n",
    "        ni_path.append(last * (1.0 + gt))\n",
    "\n",
    "    B = B0\n",
    "    PV_RI = 0.0\n",
    "    for t, NI in enumerate(ni_path, start=1):\n",
    "        RI_t = NI - r * B\n",
    "        PV_RI += RI_t / ((1.0 + r) ** t)\n",
    "        div = payout * NI\n",
    "        B = B + NI - div\n",
    "\n",
    "    if r <= g: return np.nan\n",
    "    NI_T = ni_path[-1]\n",
    "    div_T = payout * NI_T\n",
    "    B_T = B + NI_T - div_T\n",
    "    RI_T1 = (NI_T * (1.0 + g)) - r * B_T\n",
    "    term_val = RI_T1 / ((r - g) * ((1.0 + r) ** H))\n",
    "    V0 = B0 + PV_RI + term_val\n",
    "    return float(V0 / shares)\n",
    "\n",
    "def clamp_g(r, g, margin=0.002):\n",
    "    g = min(g, LONG_TERM_GROWTH_CAP)\n",
    "    if r <= g + margin:\n",
    "        g = max(-0.10, r - margin - 1e-6)\n",
    "    return g\n",
    "\n",
    "def choose_base(row, key_r, key_g, key_p):\n",
    "    r = row.get(key_r, np.nan)\n",
    "    g = row.get(key_g, np.nan)\n",
    "    p = row.get(key_p, np.nan)\n",
    "    if pd.isna(r): r = RISK_FREE + BETA_DEFAULT * EQUITY_RISK_PREMIUM\n",
    "    if pd.isna(g): g = 0.02\n",
    "    if pd.isna(p): p = DEFAULT_PAYOUT\n",
    "    return float(r), float(g), float(np.clip(p, 0.05, 0.8))"
   ]
  },
  {
   "cell_type": "code",
   "execution_count": 23,
   "id": "9ee19ae6",
   "metadata": {},
   "outputs": [
    {
     "name": "stderr",
     "output_type": "stream",
     "text": [
      "C:\\Users\\PC\\AppData\\Local\\Temp\\ipykernel_23856\\2056028364.py:12: RuntimeWarning: Mean of empty slice\n",
      "  cheap_mean = np.nanmean([row.get(\"PER_cheap_3y\", np.nan),\n"
     ]
    }
   ],
   "source": [
    "scen_records = []\n",
    "for _, row in out.iterrows():\n",
    "    r_base, g_base, p_ddm_base = choose_base(row, \"DDM_r_used\", \"DDM_g_used\", \"DDM_payout_used\")\n",
    "    _, _, p_rim_base = choose_base(row, \"RIM_r_used\", \"RIM_g_used\", \"RIM_payout_used\")\n",
    "\n",
    "    scenarios = {\n",
    "        \"Conservative\": {\"dr\": +0.015, \"dg\": -0.010, \"dp\": -0.05},\n",
    "        \"Base\":         {\"dr\": +0.000, \"dg\": +0.000, \"dp\": +0.00},\n",
    "        \"Optimistic\":   {\"dr\": -0.015, \"dg\": +0.010, \"dp\": +0.05},\n",
    "    }\n",
    "\n",
    "    cheap_mean = np.nanmean([row.get(\"PER_cheap_3y\", np.nan),\n",
    "                             row.get(\"PBR_cheap_3y\", np.nan),\n",
    "                             row.get(\"EV_EBITDA_cheap_3y\", np.nan)])\n",
    "\n",
    "    for scen, d in scenarios.items():\n",
    "        r = max(0.01, r_base + d[\"dr\"])\n",
    "        g = g_base + d[\"dg\"]\n",
    "        p_ddm = float(np.clip(p_ddm_base + d[\"dp\"], 0.05, 0.8))\n",
    "        p_rim = float(np.clip(p_rim_base + d[\"dp\"], 0.05, 0.8))\n",
    "\n",
    "        scen_records.append({\n",
    "            \"Symbol\": row[\"Symbol\"], \"Name\": row.get(\"Name\"), \"Scenario\": scen,\n",
    "            \"r\": r, \"g\": clamp_g(r, g), \"payout_DDM\": p_ddm, \"payout_RIM\": p_rim,\n",
    "            \"DDM_price\": ddm_price_from_row(row, r, g, p_ddm),\n",
    "            \"RIM_price\": rim_price_from_row(row, r, g, p_rim),\n",
    "            \"cheap_mean_3y\": cheap_mean\n",
    "        })\n",
    "\n",
    "scen_df = pd.DataFrame(scen_records)\n",
    "scen_fp = Path(\"outputs/valuation_scenarios.csv\")\n",
    "scen_df.to_csv(scen_fp, index=False, encoding=\"utf-8-sig\")\n"
   ]
  },
  {
   "cell_type": "code",
   "execution_count": 24,
   "id": "7353d15c",
   "metadata": {},
   "outputs": [
    {
     "name": "stderr",
     "output_type": "stream",
     "text": [
      "C:\\Users\\PC\\AppData\\Local\\Temp\\ipykernel_23856\\1418733835.py:5: RuntimeWarning: Mean of empty slice\n",
      "  cheap_score[\"cheap_mean_3y\"] = np.nanmean(out[cheap_cols].values, axis=1)\n"
     ]
    }
   ],
   "source": [
    "# sensitivity grid (top-K by cheapness)\n",
    "K = 12\n",
    "cheap_cols = [c for c in [\"PER_cheap_3y\",\"PBR_cheap_3y\",\"EV_EBITDA_cheap_3y\"] if c in out.columns]\n",
    "cheap_score = out[[\"Symbol\",\"Name\"]].copy()\n",
    "cheap_score[\"cheap_mean_3y\"] = np.nanmean(out[cheap_cols].values, axis=1)\n",
    "top_syms = cheap_score.sort_values(\"cheap_mean_3y\", ascending=False).head(K)[\"Symbol\"].tolist()\n",
    "\n",
    "sens_records = []\n",
    "for _, row in out[out[\"Symbol\"].isin(top_syms)].iterrows():\n",
    "    r_base = row.get(\"RIM_r_used\", row.get(\"DDM_r_used\", RISK_FREE + EQUITY_RISK_PREMIUM))\n",
    "    g_base = row.get(\"RIM_g_used\", row.get(\"DDM_g_used\", 0.02))\n",
    "    p_ddm = row.get(\"DDM_payout_used\", DEFAULT_PAYOUT)\n",
    "    p_rim = row.get(\"RIM_payout_used\", DEFAULT_PAYOUT)\n",
    "\n",
    "    r_grid = np.clip(np.array([r_base-0.02, r_base-0.01, r_base, r_base+0.01, r_base+0.02]), 0.01, 0.25)\n",
    "    g_grid = np.clip(np.array([g_base-0.01, g_base-0.005, g_base, g_base+0.005, g_base+0.01]), -0.10, 0.05)\n",
    "\n",
    "    for r in r_grid:\n",
    "        for g in g_grid:\n",
    "            g_eff = clamp_g(r, g)\n",
    "            sens_records.append({\n",
    "                \"Symbol\": row[\"Symbol\"], \"Name\": row.get(\"Name\"),\n",
    "                \"Model\": \"DDM\", \"r\": float(r), \"g\": float(g_eff), \"payout\": float(np.clip(p_ddm, 0.05, 0.8)),\n",
    "                \"Price\": ddm_price_from_row(row, r, g_eff, np.clip(p_ddm, 0.05, 0.8))\n",
    "            })\n",
    "            sens_records.append({\n",
    "                \"Symbol\": row[\"Symbol\"], \"Name\": row.get(\"Name\"),\n",
    "                \"Model\": \"RIM\", \"r\": float(r), \"g\": float(g_eff), \"payout\": float(np.clip(p_rim, 0.05, 0.8)),\n",
    "                \"Price\": rim_price_from_row(row, r, g_eff, np.clip(p_rim, 0.05, 0.8))\n",
    "            })\n",
    "\n",
    "sens_df = pd.DataFrame(sens_records)\n",
    "sens_fp = Path(\"outputs/valuation_sensitivity_long.csv\")\n",
    "sens_df.to_csv(sens_fp, index=False, encoding=\"utf-8-sig\")"
   ]
  }
 ],
 "metadata": {
  "kernelspec": {
   "display_name": "Python 3",
   "language": "python",
   "name": "python3"
  },
  "language_info": {
   "codemirror_mode": {
    "name": "ipython",
    "version": 3
   },
   "file_extension": ".py",
   "mimetype": "text/x-python",
   "name": "python",
   "nbconvert_exporter": "python",
   "pygments_lexer": "ipython3",
   "version": "3.10.11"
  }
 },
 "nbformat": 4,
 "nbformat_minor": 5
}
