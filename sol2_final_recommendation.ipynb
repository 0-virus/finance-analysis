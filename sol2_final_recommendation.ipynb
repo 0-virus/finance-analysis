{
 "cells": [
  {
   "cell_type": "markdown",
   "id": "9f153619",
   "metadata": {},
   "source": [
    "# Import Libraries"
   ]
  },
  {
   "cell_type": "code",
   "execution_count": 1,
   "id": "f691ddce",
   "metadata": {},
   "outputs": [],
   "source": [
    "import pandas as pd\n",
    "import numpy as np\n",
    "from pathlib import Path"
   ]
  },
  {
   "cell_type": "markdown",
   "id": "757d1aec",
   "metadata": {},
   "source": [
    "# Load Files"
   ]
  },
  {
   "cell_type": "code",
   "execution_count": 2,
   "id": "dab94767",
   "metadata": {},
   "outputs": [],
   "source": [
    "outputs_dir = Path(\"outputs\")\n",
    "res_fp = outputs_dir / \"valuation_results_3y.csv\"\n",
    "scen_fp = outputs_dir / \"valuation_scenarios.csv\"\n",
    "sens_fp = outputs_dir / \"valuation_sensitivity_long.csv\"\n",
    "\n",
    "missing = [p.name for p in [res_fp, scen_fp, sens_fp] if not p.exists()]\n",
    "if missing:\n",
    "    raise FileNotFoundError(f\"필수 결과 파일 누락: {missing}. 먼저 3년 정상화/시나리오/민감도 파일을 생성해 주세요.\")\n",
    "\n",
    "out = pd.read_csv(res_fp, dtype={\"Symbol\":\"string\"})\n",
    "scen = pd.read_csv(scen_fp, dtype={\"Symbol\":\"string\"})\n",
    "sens = pd.read_csv(sens_fp, dtype={\"Symbol\":\"string\"})"
   ]
  },
  {
   "cell_type": "markdown",
   "id": "3f0f6b80",
   "metadata": {},
   "source": [
    "# 1) Derive Market Price Proxy (from PER or PBR)"
   ]
  },
  {
   "cell_type": "code",
   "execution_count": 3,
   "id": "28fbc146",
   "metadata": {},
   "outputs": [],
   "source": [
    "# Prefer PBR route if book equity is available and shares>0\n",
    "def derive_market_price(row):\n",
    "    price_pbr = np.nan\n",
    "    price_per = np.nan\n",
    "    try:\n",
    "        shares = float(row.get(\"기말발행주식수\", np.nan))\n",
    "        ni = float(row.get(\"당기순이익\", np.nan))\n",
    "        per = float(row.get(\"PER\", np.nan))\n",
    "        pbr = float(row.get(\"PBR\", np.nan))\n",
    "        total_assets = float(row.get(\"총자산\", np.nan))\n",
    "        eq_ratio = float(row.get(\"자기자본비율\", np.nan))\n",
    "    except Exception:\n",
    "        shares = ni = per = pbr = total_assets = eq_ratio = np.nan\n",
    "\n",
    "    # PBR-based\n",
    "    if np.isfinite(pbr) and np.isfinite(total_assets) and np.isfinite(eq_ratio) and np.isfinite(shares) and shares>0 and eq_ratio>0:\n",
    "        book_equity = total_assets * eq_ratio\n",
    "        bvps = book_equity / shares\n",
    "        price_pbr = pbr * bvps\n",
    "\n",
    "    # PER-based\n",
    "    if np.isfinite(per) and np.isfinite(ni) and np.isfinite(shares) and shares>0:\n",
    "        eps = ni / shares\n",
    "        price_per = per * eps\n",
    "\n",
    "    # Choose: prefer PBR (usually more stable for banks/financials), else PER\n",
    "    if np.isfinite(price_pbr):\n",
    "        return float(price_pbr)\n",
    "    elif np.isfinite(price_per):\n",
    "        return float(price_per)\n",
    "    else:\n",
    "        return np.nan\n"
   ]
  },
  {
   "cell_type": "code",
   "execution_count": 4,
   "id": "9f5c1ef2",
   "metadata": {},
   "outputs": [],
   "source": [
    "out[\"MarketPriceProxy\"] = out.apply(derive_market_price, axis=1)\n",
    "\n",
    "# Filter to only rows with a usable market price\n",
    "work = out.copy()"
   ]
  },
  {
   "cell_type": "markdown",
   "id": "957a948d",
   "metadata": {},
   "source": [
    "# 2) Relative screen (cheapness)"
   ]
  },
  {
   "cell_type": "code",
   "execution_count": 5,
   "id": "d4ed957a",
   "metadata": {},
   "outputs": [
    {
     "name": "stderr",
     "output_type": "stream",
     "text": [
      "C:\\Users\\PC\\AppData\\Local\\Temp\\ipykernel_22212\\3733577130.py:2: RuntimeWarning: Mean of empty slice\n",
      "  work[\"cheap_mean_3y\"] = np.nanmean(work[cheap_cols].values, axis=1)\n"
     ]
    }
   ],
   "source": [
    "cheap_cols = [c for c in [\"PER_cheap_3y\",\"PBR_cheap_3y\",\"EV_EBITDA_cheap_3y\"] if c in work.columns]\n",
    "work[\"cheap_mean_3y\"] = np.nanmean(work[cheap_cols].values, axis=1)"
   ]
  },
  {
   "cell_type": "markdown",
   "id": "f63644aa",
   "metadata": {},
   "source": [
    "# 3) Absolute cross-check vs market (Base scenario using RIM first, fallback to DDM)"
   ]
  },
  {
   "cell_type": "code",
   "execution_count": 6,
   "id": "0183cb0f",
   "metadata": {},
   "outputs": [],
   "source": [
    "def choose_base_model_price(row):\n",
    "    # Prefer RIM if present, else DDM\n",
    "    rim = row.get(\"RIM_price\", np.nan)\n",
    "    ddm = row.get(\"DDM_price\", np.nan)\n",
    "    if np.isfinite(rim):\n",
    "        return float(rim)\n",
    "    elif np.isfinite(ddm):\n",
    "        return float(ddm)\n",
    "    else:\n",
    "        return np.nan\n",
    "\n",
    "work[\"Base_intrinsic\"] = work.apply(choose_base_model_price, axis=1)\n",
    "work[\"undervaluation_base\"] = (work[\"Base_intrinsic\"] / work[\"MarketPriceProxy\"]) - 1.0\n"
   ]
  },
  {
   "cell_type": "markdown",
   "id": "c4c81eb4",
   "metadata": {},
   "source": [
    "# 4) Scenario linkage: pull Conservative/Base/Optimistic (RIM-first, fallback DDM)"
   ]
  },
  {
   "cell_type": "code",
   "execution_count": 7,
   "id": "14db8cce",
   "metadata": {},
   "outputs": [],
   "source": [
    "# Merge a pivot of scenarios for convenience\n",
    "def scen_price_pref(group):\n",
    "    # For each scenario, pick RIM_price if available else DDM_price\n",
    "    m = {}\n",
    "    for _, r in group.iterrows():\n",
    "        scen = r[\"Scenario\"]\n",
    "        rim_p = r.get(\"RIM_price\", np.nan)\n",
    "        ddm_p = r.get(\"DDM_price\", np.nan)\n",
    "        val = rim_p if np.isfinite(rim_p) else ddm_p\n",
    "        m[scen] = val\n",
    "    return pd.Series(m)\n",
    "\n",
    "scen_pivot = scen.groupby([\"Symbol\",\"Name\"]).apply(scen_price_pref).reset_index()\n",
    "work = work.merge(scen_pivot, on=[\"Symbol\",\"Name\"], how=\"left\", suffixes=(\"\",\"\"))\n"
   ]
  },
  {
   "cell_type": "code",
   "execution_count": 8,
   "id": "36c7c3e5",
   "metadata": {},
   "outputs": [],
   "source": [
    "# conservative/base/optimistic undervaluation\n",
    "for scen_name in [\"Conservative\",\"Base\",\"Optimistic\"]:\n",
    "    if scen_name in work.columns:\n",
    "        work[f\"undervaluation_{scen_name}\"] = (work[scen_name] / work[\"MarketPriceProxy\"]) - 1.0"
   ]
  },
  {
   "cell_type": "markdown",
   "id": "c052346d",
   "metadata": {},
   "source": [
    "# 5) Robustness from sensitivity grid\n",
    "- For each symbol & model, fraction of grid points where Price >= MarketPriceProxy\n",
    "  \n",
    "- Combine DDM/RIM by averaging their pass rates (if both present)"
   ]
  },
  {
   "cell_type": "code",
   "execution_count": 9,
   "id": "4fbde3c9",
   "metadata": {},
   "outputs": [],
   "source": [
    "sens = sens.merge(work[[\"Symbol\",\"MarketPriceProxy\"]], on=\"Symbol\", how=\"left\")\n",
    "sens[\"pass\"] = sens[\"Price\"] >= sens[\"MarketPriceProxy\"]\n",
    "\n",
    "pass_rates = sens.groupby([\"Symbol\",\"Model\"])[\"pass\"].mean().reset_index().pivot(index=\"Symbol\", columns=\"Model\", values=\"pass\")\n",
    "pass_rates = pass_rates.reset_index().rename_axis(None, axis=1)\n",
    "# Average across models if both exist\n",
    "def avg_pass(row):\n",
    "    vals = []\n",
    "    for m in [\"DDM\",\"RIM\"]:\n",
    "        v = row.get(m, np.nan)\n",
    "        if np.isfinite(v): vals.append(float(v))\n",
    "    if len(vals)==0: return np.nan\n",
    "    return float(np.mean(vals))\n",
    "\n",
    "pass_rates[\"robust_score\"] = pass_rates.apply(avg_pass, axis=1)\n",
    "work = work.merge(pass_rates[[\"Symbol\",\"robust_score\"]], on=\"Symbol\", how=\"left\")\n"
   ]
  },
  {
   "cell_type": "markdown",
   "id": "4a6b7fd1",
   "metadata": {},
   "source": [
    "# 6) Final score & Recommendations\n",
    "final_score = 0.5*cheap_mean_3y + 0.3*undervaluation_base + 0.2*robust_score\n",
    "\n",
    "(clip to avoid nan spillovers)"
   ]
  },
  {
   "cell_type": "code",
   "execution_count": 10,
   "id": "73fcb8c5",
   "metadata": {},
   "outputs": [],
   "source": [
    "def safe_num(x): \n",
    "    try:\n",
    "        return float(x)\n",
    "    except Exception:\n",
    "        return np.nan\n",
    "\n",
    "for c in [\"cheap_mean_3y\",\"undervaluation_base\",\"robust_score\"]:\n",
    "    work[c] = work[c].astype(float)\n",
    "\n",
    "work[\"final_score\"] = (\n",
    "    0.5*work[\"cheap_mean_3y\"].fillna(0) + \n",
    "    0.3*work[\"undervaluation_base\"].fillna(0) +\n",
    "    0.2*work[\"robust_score\"].fillna(0)\n",
    ")\n",
    "\n",
    "# Rank and select\n",
    "work_sorted = work.sort_values(\"final_score\", ascending=False)\n",
    "\n",
    "top20 = work_sorted.head(20).copy()\n",
    "bottom20 = work_sorted.tail(20).copy()"
   ]
  },
  {
   "cell_type": "code",
   "execution_count": 11,
   "id": "31b46ddc",
   "metadata": {},
   "outputs": [],
   "source": [
    "# Select columns for report\n",
    "report_cols = [\n",
    "    \"Symbol\",\"Name\",\"산업분류(중분류)\",\n",
    "    \"cheap_mean_3y\",\n",
    "    \"MarketPriceProxy\",\"Base_intrinsic\",\"undervaluation_base\",\n",
    "    \"Conservative\",\"Base\",\"Optimistic\",\n",
    "    \"undervaluation_Conservative\",\"undervaluation_Base\",\"undervaluation_Optimistic\",\n",
    "    \"robust_score\",\"final_score\"\n",
    "]\n",
    "report_cols = [c for c in report_cols if c in work.columns]\n",
    "\n",
    "rec_fp_all = outputs_dir / \"recommendations_scored.csv\"\n",
    "rec_fp_top = outputs_dir / \"recommend_top20.csv\"\n",
    "rec_fp_bot = outputs_dir / \"recommend_bottom20.csv\"\n",
    "\n",
    "work_sorted[report_cols].to_csv(rec_fp_all, index=False, encoding=\"utf-8-sig\")\n",
    "top20[report_cols].to_csv(rec_fp_top, index=False, encoding=\"utf-8-sig\")\n",
    "bottom20[report_cols].to_csv(rec_fp_bot, index=False, encoding=\"utf-8-sig\")"
   ]
  }
 ],
 "metadata": {
  "kernelspec": {
   "display_name": "Python 3",
   "language": "python",
   "name": "python3"
  },
  "language_info": {
   "codemirror_mode": {
    "name": "ipython",
    "version": 3
   },
   "file_extension": ".py",
   "mimetype": "text/x-python",
   "name": "python",
   "nbconvert_exporter": "python",
   "pygments_lexer": "ipython3",
   "version": "3.10.11"
  }
 },
 "nbformat": 4,
 "nbformat_minor": 5
}
